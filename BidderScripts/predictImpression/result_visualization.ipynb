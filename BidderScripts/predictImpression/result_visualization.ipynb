{
 "cells": [
  {
   "cell_type": "code",
   "execution_count": 50,
   "metadata": {},
   "outputs": [],
   "source": [
    "import pandas as pd\n",
    "import requests\n",
    "import json\n",
    "import matplotlib.pyplot as plt\n",
    "import numpy as np\n",
    "import statistics\n",
    "import config\n",
    "import datetime\n",
    "import boto3\n",
    "import math"
   ]
  },
  {
   "cell_type": "code",
   "execution_count": 51,
   "metadata": {},
   "outputs": [],
   "source": [
    "CONFIG = config.get_config()\n",
    "dtypes = config.get_types_of_attributes()\n",
    "s3_resource = boto3.resource('s3')"
   ]
  },
  {
   "cell_type": "code",
   "execution_count": 52,
   "metadata": {},
   "outputs": [],
   "source": [
    "sample_n=1000"
   ]
  },
  {
   "cell_type": "code",
   "execution_count": 53,
   "metadata": {},
   "outputs": [],
   "source": [
    "prefix = 'tsv/etl/imp-pred-service-v1/imppredservice_training_data'\n",
    "day = str( datetime.date.today() - datetime.timedelta(2) )\n",
    "_prefix = '{}/d={}/'.format(prefix, day)\n",
    "files= [ obj.key for obj in s3_resource.Bucket(CONFIG['S3_BUCKET']).objects.filter(Prefix=_prefix).all() if obj.key.endswith('.gz') ]"
   ]
  },
  {
   "cell_type": "code",
   "execution_count": 54,
   "metadata": {},
   "outputs": [],
   "source": [
    "df = pd.concat((pd.read_csv('s3://{}/{}'.format(CONFIG['S3_BUCKET'], files[i]), sep=CONFIG['CSV_SEPARATOR'], compression='gzip', na_values=[\"null\", \"\\\\N\"], dtype=dtypes) for i in range(sample_n//100)))"
   ]
  },
  {
   "cell_type": "code",
   "execution_count": 55,
   "metadata": {},
   "outputs": [],
   "source": [
    "positive = df[df['imp_6'] == 1]\n",
    "negative = df[df['imp_6'] == 0]"
   ]
  },
  {
   "cell_type": "code",
   "execution_count": 56,
   "metadata": {},
   "outputs": [
    {
     "data": {
      "text/plain": [
       "Index(['deliveryid', 'dayofweek', 'hour', 'pub_sspid', 'pub_accountid',\n",
       "       'pub_as_siteid', 'pub_as_adspaceid', 'pub_as_domain', 'pub_as_pageurl',\n",
       "       'pub_as_dimensions', 'pub_as_viewrate', 'pub_as_position',\n",
       "       'pub_as_caps', 'req_buymodel', 'req_auctiontype', 'device_os',\n",
       "       'device_model', 'rtb_ctr', 'rtb_viewrate', 'rtb_bidfloor', 'rtb_battr',\n",
       "       'rtb_tagid', 'user_ip', 'user_market', 'user_city', 'ad_imptype',\n",
       "       'req_bid', 'price', 'advcostcpm', 'won', 'targetbid', 'click', 'imp',\n",
       "       'imp_0', 'imp_1', 'imp_2', 'imp_3', 'imp_4', 'imp_5', 'imp_6', 'imp_7',\n",
       "       'imp_8', 'imp_9', 'imp_10', 'imp_11', 'imp_12', 'imp_13', 'imp_14'],\n",
       "      dtype='object')"
      ]
     },
     "execution_count": 56,
     "metadata": {},
     "output_type": "execute_result"
    }
   ],
   "source": [
    "positive.columns"
   ]
  },
  {
   "cell_type": "code",
   "execution_count": 57,
   "metadata": {},
   "outputs": [],
   "source": [
    "def make_request(instance):\n",
    "    dayofweek_hour = int(instance['dayofweek']) * 24 + int(instance['hour'])\n",
    "    day = int(instance['dayofweek'])\n",
    "    hour = int(instance['hour'])\n",
    "    \n",
    "#     domain_position = str(instance['domain_position'])\n",
    "    domain = str(instance['pub_as_domain'])\n",
    "    position = 0 if math.isnan(float(instance['pub_as_position'])) else int(instance['pub_as_position'])\n",
    "    url = \"http://prediction-api.widespace.com/v1/predict\"\n",
    "    payload = \"{\\n    \\\"requestId\\\" : 346,\\n    \" + \"\\\"day\\\": \" + str(day) + \",\\n    \" +\"\\\"hour\\\": \" + str(hour) + \",\\n    \" +\"\\\"adspace\\\" : {\\n        \"+\"\\\"sspid\\\" : \" + str(instance['pub_sspid']) + \",\\n        \"+\"\\\"adspaceid\\\" : \" + str(instance['pub_as_adspaceid']) + \",\\n        \"+\"\\\"domain\\\" : \\\"\" + domain.lower() + \"\\\",\\n        \"+\"\\\"position\\\": \\\" \" + str(position) + \"  \\\",\\n        \"+\"\\\"dims\\\": \\\"\" + str(instance['pub_as_dimensions']) + \"\\\"\\n    },\\n    \"+\"\\\"device\\\" : {\\n        \"+\"\\\"os\\\" : \\\"\" + str(instance['device_os']) + \"\\\",\\n        \"+\"\\\"model\\\" : \\\"\" + str(instance['device_model']) + \"\\\"\\n    },\\n    \"+\"\\\"user\\\" : {\\n        \"+\"\\\"market\\\" : \\\"\" + str(instance['user_market']) + \"\\\",\\n        \"+\"\\\"city\\\" : \\\"\" + str(instance['user_city']).lower() + \"\\\",\\n        \"+\"\\\"ip\\\": \\\"\" + str(instance['user_ip'])  + \"\\\"\\n    }\\n}\"\n",
    "    headers = {\n",
    "        'token': \"zY92d9MNFjHdUAGX1cCIWQKmIzRD6Krz3WzMEmxM\",\n",
    "        'content-type': \"application/json\",\n",
    "        'cache-control': \"no-cache\",\n",
    "        'postman-token': \"bd5dfcd8-a906-4399-c6df-32e50d99b321\"\n",
    "        }\n",
    "\n",
    "    response = requests.request(\"POST\", url, data=payload, headers=headers)\n",
    "    result = json.loads(response.text)\n",
    "    return result"
   ]
  },
  {
   "cell_type": "code",
   "execution_count": 58,
   "metadata": {},
   "outputs": [],
   "source": [
    "compare_by_adspace = []\n",
    "def make_prediction(rows):\n",
    "    results = []\n",
    "    global compare_by_adspace\n",
    "    compare_by_adspace = []\n",
    "    for index, row in rows.iterrows():\n",
    "        result = make_request(row)\n",
    "        if not 'imp' in result:\n",
    "            print(result)\n",
    "            break\n",
    "#         print(result)\n",
    "#         break\n",
    "        compare_by_adspace.append({\n",
    "            'view_rate': row['pub_as_viewrate'],\n",
    "            'adspaceid': row['pub_as_adspaceid'],\n",
    "            'probability': result['imp'][0]['prob']\n",
    "        })\n",
    "        results.append(result['imp'][0]['prob'])\n",
    "    return results"
   ]
  },
  {
   "cell_type": "code",
   "execution_count": 59,
   "metadata": {},
   "outputs": [
    {
     "name": "stdout",
     "output_type": "stream",
     "text": [
      "3497\n",
      "257928\n"
     ]
    }
   ],
   "source": [
    "print(len(positive))\n",
    "print(len(negative))"
   ]
  },
  {
   "cell_type": "code",
   "execution_count": 60,
   "metadata": {},
   "outputs": [
    {
     "name": "stdout",
     "output_type": "stream",
     "text": [
      "Accuracy in positive sample 0.536\n"
     ]
    }
   ],
   "source": [
    "positives = positive.sample(n=sample_n)\n",
    "view_rates_p = positives['pub_as_viewrate']\n",
    "positive_results=make_prediction(positives)\n",
    "positive_accuracy = np.sum(np.array(positive_results) > 0.5) / len(positives)\n",
    "print(\"Accuracy in positive sample {}\".format(positive_accuracy))"
   ]
  },
  {
   "cell_type": "code",
   "execution_count": 61,
   "metadata": {},
   "outputs": [
    {
     "name": "stdout",
     "output_type": "stream",
     "text": [
      "Accuracy in negative sample 0.623\n"
     ]
    }
   ],
   "source": [
    "negatives = negative.sample(n=sample_n)\n",
    "view_rates_n = negatives['pub_as_viewrate']\n",
    "negative_results=make_prediction(negatives)\n",
    "negative_accuracy = np.sum(np.array(negative_results) > 0.5) / len(negatives)\n",
    "print(\"Accuracy in negative sample {}\".format(negative_accuracy))"
   ]
  },
  {
   "cell_type": "code",
   "execution_count": 62,
   "metadata": {},
   "outputs": [
    {
     "data": {
      "text/plain": [
       "[<matplotlib.lines.Line2D at 0x7fd589e56d68>]"
      ]
     },
     "execution_count": 62,
     "metadata": {},
     "output_type": "execute_result"
    },
    {
     "data": {
      "image/png": "[encoded data removed]",
      "text/plain": [
       "<Figure size 432x288 with 1 Axes>"
      ]
     },
     "metadata": {},
     "output_type": "display_data"
    }
   ],
   "source": [
    "plt.plot(positive_results, label=\"Predicted\")\n",
    "plt.plot(view_rates_p.values, label=\"Based on adspace\")"
   ]
  },
  {
   "cell_type": "code",
   "execution_count": 63,
   "metadata": {},
   "outputs": [
    {
     "data": {
      "text/plain": [
       "[<matplotlib.lines.Line2D at 0x7fd5906783c8>]"
      ]
     },
     "execution_count": 63,
     "metadata": {},
     "output_type": "execute_result"
    },
    {
     "data": {
      "image/png": "[encoded data removed]",
      "text/plain": [
       "<Figure size 432x288 with 1 Axes>"
      ]
     },
     "metadata": {},
     "output_type": "display_data"
    }
   ],
   "source": [
    "plt.plot(negative_results)\n",
    "plt.plot(view_rates_n.values)"
   ]
  },
  {
   "cell_type": "code",
   "execution_count": 64,
   "metadata": {},
   "outputs": [
    {
     "name": "stdout",
     "output_type": "stream",
     "text": [
      "Positive\n",
      "Mean: 0.5244540706774\n",
      "Std-dev: 0.14655749022759362\n",
      "Negative\n",
      "Mean: 0.5282099931666\n",
      "Std-dev 0.1541090911687376\n"
     ]
    }
   ],
   "source": [
    "print(\"Positive\")\n",
    "print(\"Mean: {}\".format(statistics.mean(positive_results)))\n",
    "print(\"Std-dev: {}\".format(statistics.stdev(positive_results)))\n",
    "print(\"Negative\")\n",
    "print(\"Mean: {}\".format(statistics.mean(negative_results)))\n",
    "print(\"Std-dev {}\".format(statistics.stdev(negative_results)))"
   ]
  },
  {
   "cell_type": "code",
   "execution_count": 65,
   "metadata": {},
   "outputs": [],
   "source": [
    "r = {}\n",
    "for entry in compare_by_adspace:\n",
    "    r[entry['adspaceid']] = { 'view_rate': [], 'probability': [] }\n",
    "for entry in compare_by_adspace:\n",
    "    r[entry['adspaceid']]['view_rate'].append(entry['view_rate'])\n",
    "    r[entry['adspaceid']]['probability'].append(entry['probability'])"
   ]
  },
  {
   "cell_type": "code",
   "execution_count": 66,
   "metadata": {},
   "outputs": [
    {
     "data": {
      "text/plain": [
       "[{'adspaceid': '19774',\n",
       "  'avg_view_rate': 0.36243377334770116,\n",
       "  'avg_probabilty': 0.48293764660919536},\n",
       " {'adspaceid': '19892',\n",
       "  'avg_view_rate': 0.5433470579954955,\n",
       "  'avg_probabilty': 0.5384631511441441},\n",
       " {'adspaceid': '24374',\n",
       "  'avg_view_rate': 0.623046875,\n",
       "  'avg_probabilty': 0.448512197},\n",
       " {'adspaceid': '20791',\n",
       "  'avg_view_rate': 0.5896420686141305,\n",
       "  'avg_probabilty': 0.6642599786086956},\n",
       " {'adspaceid': '20979',\n",
       "  'avg_view_rate': 0.24343287691156915,\n",
       "  'avg_probabilty': 0.5930807088457448},\n",
       " {'adspaceid': '23679',\n",
       "  'avg_view_rate': 0.434599609375,\n",
       "  'avg_probabilty': 0.31343460372},\n",
       " {'adspaceid': '23947',\n",
       "  'avg_view_rate': 0.4831478721217105,\n",
       "  'avg_probabilty': 0.5251646135789474},\n",
       " {'adspaceid': '22234',\n",
       "  'avg_view_rate': 0.92266845703125,\n",
       "  'avg_probabilty': 0.42794106895833334},\n",
       " {'adspaceid': '21636',\n",
       "  'avg_view_rate': 0.4241265190972222,\n",
       "  'avg_probabilty': 0.40234558788888886},\n",
       " {'adspaceid': '22133',\n",
       "  'avg_view_rate': 0.6389811197916667,\n",
       "  'avg_probabilty': 0.5845480207},\n",
       " {'adspaceid': '23056',\n",
       "  'avg_view_rate': 0.32856889204545453,\n",
       "  'avg_probabilty': 0.038070018663636365},\n",
       " {'adspaceid': '19847', 'avg_view_rate': nan, 'avg_probabilty': 0.72961884975},\n",
       " {'adspaceid': '22097', 'avg_view_rate': nan, 'avg_probabilty': 0.558049858},\n",
       " {'adspaceid': '21781',\n",
       "  'avg_view_rate': nan,\n",
       "  'avg_probabilty': 0.35379911073333326},\n",
       " {'adspaceid': '21782',\n",
       "  'avg_view_rate': 0.67724609375,\n",
       "  'avg_probabilty': 0.09321517914375001},\n",
       " {'adspaceid': '21033',\n",
       "  'avg_view_rate': nan,\n",
       "  'avg_probabilty': 0.4951136459999999},\n",
       " {'adspaceid': '22649',\n",
       "  'avg_view_rate': 0.39131303267045453,\n",
       "  'avg_probabilty': 0.485954655909091},\n",
       " {'adspaceid': '24290',\n",
       "  'avg_view_rate': 0.7000325520833334,\n",
       "  'avg_probabilty': 0.7554628678},\n",
       " {'adspaceid': '20969', 'avg_view_rate': nan, 'avg_probabilty': 0.63195489725},\n",
       " {'adspaceid': '24289',\n",
       "  'avg_view_rate': 0.79580078125,\n",
       "  'avg_probabilty': 0.6019017399},\n",
       " {'adspaceid': '20419',\n",
       "  'avg_view_rate': 0.599853515625,\n",
       "  'avg_probabilty': 0.6133899985},\n",
       " {'adspaceid': '24194',\n",
       "  'avg_view_rate': 0.4849853515625,\n",
       "  'avg_probabilty': 0.8685472009999999},\n",
       " {'adspaceid': '24746',\n",
       "  'avg_view_rate': 0.62890625,\n",
       "  'avg_probabilty': 0.40408240766666664},\n",
       " {'adspaceid': '22998', 'avg_view_rate': nan, 'avg_probabilty': 0.597214639},\n",
       " {'adspaceid': '21518', 'avg_view_rate': nan, 'avg_probabilty': 0.266480476},\n",
       " {'adspaceid': '19824',\n",
       "  'avg_view_rate': 0.39334542410714285,\n",
       "  'avg_probabilty': 0.4196934444285714},\n",
       " {'adspaceid': '20788', 'avg_view_rate': nan, 'avg_probabilty': 0.34215972925},\n",
       " {'adspaceid': '21008', 'avg_view_rate': nan, 'avg_probabilty': 0.55167364},\n",
       " {'adspaceid': '22543',\n",
       "  'avg_view_rate': 0.435546875,\n",
       "  'avg_probabilty': 0.235934064},\n",
       " {'adspaceid': '23378', 'avg_view_rate': nan, 'avg_probabilty': 0.407336414},\n",
       " {'adspaceid': '25015',\n",
       "  'avg_view_rate': 0.548828125,\n",
       "  'avg_probabilty': 0.1074992819},\n",
       " {'adspaceid': '24428', 'avg_view_rate': nan, 'avg_probabilty': 0.640789123},\n",
       " {'adspaceid': '24418',\n",
       "  'avg_view_rate': 0.685546875,\n",
       "  'avg_probabilty': 0.7844981353333332},\n",
       " {'adspaceid': '19831',\n",
       "  'avg_view_rate': 0.33349609375,\n",
       "  'avg_probabilty': 0.47126308100000003},\n",
       " {'adspaceid': '24388',\n",
       "  'avg_view_rate': 0.5966796875,\n",
       "  'avg_probabilty': 0.6802102029999999},\n",
       " {'adspaceid': '20341',\n",
       "  'avg_view_rate': 0.6728515625,\n",
       "  'avg_probabilty': 0.720503688},\n",
       " {'adspaceid': '22926', 'avg_view_rate': nan, 'avg_probabilty': 0.69990269825},\n",
       " {'adspaceid': '21317',\n",
       "  'avg_view_rate': 0.78076171875,\n",
       "  'avg_probabilty': 0.568689227},\n",
       " {'adspaceid': '22661',\n",
       "  'avg_view_rate': 0.4747721354166667,\n",
       "  'avg_probabilty': 0.5913425883333333},\n",
       " {'adspaceid': '24373',\n",
       "  'avg_view_rate': 0.69580078125,\n",
       "  'avg_probabilty': 0.846938819},\n",
       " {'adspaceid': '22545',\n",
       "  'avg_view_rate': 0.70166015625,\n",
       "  'avg_probabilty': 0.4798521695},\n",
       " {'adspaceid': '24903', 'avg_view_rate': nan, 'avg_probabilty': 0.597434521},\n",
       " {'adspaceid': '22652',\n",
       "  'avg_view_rate': 0.25775146484375,\n",
       "  'avg_probabilty': 0.36435720299999996},\n",
       " {'adspaceid': '22558',\n",
       "  'avg_view_rate': 0.304443359375,\n",
       "  'avg_probabilty': 0.3319293335},\n",
       " {'adspaceid': '24331',\n",
       "  'avg_view_rate': 0.56689453125,\n",
       "  'avg_probabilty': 0.7842688265},\n",
       " {'adspaceid': '24438', 'avg_view_rate': nan, 'avg_probabilty': 0.560749},\n",
       " {'adspaceid': '20271',\n",
       "  'avg_view_rate': 0.63037109375,\n",
       "  'avg_probabilty': 0.76159700425},\n",
       " {'adspaceid': '20554',\n",
       "  'avg_view_rate': 0.55224609375,\n",
       "  'avg_probabilty': 0.5476605145},\n",
       " {'adspaceid': '24324',\n",
       "  'avg_view_rate': 0.80224609375,\n",
       "  'avg_probabilty': 0.871484071},\n",
       " {'adspaceid': '24820',\n",
       "  'avg_view_rate': nan,\n",
       "  'avg_probabilty': 0.7356343568333332},\n",
       " {'adspaceid': '20876',\n",
       "  'avg_view_rate': 0.493896484375,\n",
       "  'avg_probabilty': 0.55246219675},\n",
       " {'adspaceid': '20162',\n",
       "  'avg_view_rate': 0.34716796875,\n",
       "  'avg_probabilty': 0.349476397},\n",
       " {'adspaceid': '23749',\n",
       "  'avg_view_rate': 0.536376953125,\n",
       "  'avg_probabilty': 0.3927395345},\n",
       " {'adspaceid': '21012',\n",
       "  'avg_view_rate': 0.5517578125,\n",
       "  'avg_probabilty': 0.379389159},\n",
       " {'adspaceid': '23127',\n",
       "  'avg_view_rate': 0.215087890625,\n",
       "  'avg_probabilty': 0.60181433},\n",
       " {'adspaceid': '23085',\n",
       "  'avg_view_rate': 0.63916015625,\n",
       "  'avg_probabilty': 0.506587744},\n",
       " {'adspaceid': '24456',\n",
       "  'avg_view_rate': nan,\n",
       "  'avg_probabilty': 0.22453415866666668},\n",
       " {'adspaceid': '23050',\n",
       "  'avg_view_rate': 0.54736328125,\n",
       "  'avg_probabilty': 0.360595763},\n",
       " {'adspaceid': '20347',\n",
       "  'avg_view_rate': 0.52880859375,\n",
       "  'avg_probabilty': 0.728276372},\n",
       " {'adspaceid': '23051',\n",
       "  'avg_view_rate': 0.5361328125,\n",
       "  'avg_probabilty': 0.336622447},\n",
       " {'adspaceid': '23046',\n",
       "  'avg_view_rate': 0.57373046875,\n",
       "  'avg_probabilty': 0.857748},\n",
       " {'adspaceid': '19728', 'avg_view_rate': nan, 'avg_probabilty': 0.632367551},\n",
       " {'adspaceid': '20494',\n",
       "  'avg_view_rate': 0.20247395833333334,\n",
       "  'avg_probabilty': 0.37298255166666666},\n",
       " {'adspaceid': '21385',\n",
       "  'avg_view_rate': 0.239501953125,\n",
       "  'avg_probabilty': 0.4812},\n",
       " {'adspaceid': '21955',\n",
       "  'avg_view_rate': 0.6638997395833334,\n",
       "  'avg_probabilty': 0.526700924},\n",
       " {'adspaceid': '24426', 'avg_view_rate': nan, 'avg_probabilty': 0.558403611},\n",
       " {'adspaceid': '20335',\n",
       "  'avg_view_rate': 0.466064453125,\n",
       "  'avg_probabilty': 0.327848},\n",
       " {'adspaceid': '21324',\n",
       "  'avg_view_rate': 0.76171875,\n",
       "  'avg_probabilty': 0.5891186},\n",
       " {'adspaceid': '25401', 'avg_view_rate': nan, 'avg_probabilty': 0.418604642},\n",
       " {'adspaceid': '24445',\n",
       "  'avg_view_rate': nan,\n",
       "  'avg_probabilty': 0.4949376683333333},\n",
       " {'adspaceid': '22655',\n",
       "  'avg_view_rate': 0.505859375,\n",
       "  'avg_probabilty': 0.629434586},\n",
       " {'adspaceid': '24389',\n",
       "  'avg_view_rate': 0.456298828125,\n",
       "  'avg_probabilty': 0.572713673},\n",
       " {'adspaceid': '25403',\n",
       "  'avg_view_rate': nan,\n",
       "  'avg_probabilty': 0.4479545243333333},\n",
       " {'adspaceid': '24352', 'avg_view_rate': nan, 'avg_probabilty': 0.738591},\n",
       " {'adspaceid': '20434',\n",
       "  'avg_view_rate': 0.611328125,\n",
       "  'avg_probabilty': 0.793433785},\n",
       " {'adspaceid': '21014',\n",
       "  'avg_view_rate': 0.457763671875,\n",
       "  'avg_probabilty': 0.308588922},\n",
       " {'adspaceid': '22650', 'avg_view_rate': nan, 'avg_probabilty': 0.663734555},\n",
       " {'adspaceid': '20206',\n",
       "  'avg_view_rate': 0.4615234375,\n",
       "  'avg_probabilty': 0.3542179404},\n",
       " {'adspaceid': '22054',\n",
       "  'avg_view_rate': 0.446435546875,\n",
       "  'avg_probabilty': 0.672492385},\n",
       " {'adspaceid': '24413', 'avg_view_rate': nan, 'avg_probabilty': 0.536351},\n",
       " {'adspaceid': '21320',\n",
       "  'avg_view_rate': 0.7939453125,\n",
       "  'avg_probabilty': 0.891729116},\n",
       " {'adspaceid': '19890',\n",
       "  'avg_view_rate': 0.347900390625,\n",
       "  'avg_probabilty': 0.486987501},\n",
       " {'adspaceid': '21990', 'avg_view_rate': nan, 'avg_probabilty': 0.421866715},\n",
       " {'adspaceid': '21631',\n",
       "  'avg_view_rate': 0.3036295572916667,\n",
       "  'avg_probabilty': 0.6983545423333334},\n",
       " {'adspaceid': '20193', 'avg_view_rate': nan, 'avg_probabilty': 0.407738626},\n",
       " {'adspaceid': '22658',\n",
       "  'avg_view_rate': 0.60498046875,\n",
       "  'avg_probabilty': 0.82534039},\n",
       " {'adspaceid': '23126',\n",
       "  'avg_view_rate': 0.405029296875,\n",
       "  'avg_probabilty': 0.570202827},\n",
       " {'adspaceid': '23697', 'avg_view_rate': nan, 'avg_probabilty': 0.79483974},\n",
       " {'adspaceid': '24758',\n",
       "  'avg_view_rate': 0.454833984375,\n",
       "  'avg_probabilty': 0.536863446},\n",
       " {'adspaceid': '25405', 'avg_view_rate': nan, 'avg_probabilty': 0.416236699},\n",
       " {'adspaceid': '20557',\n",
       "  'avg_view_rate': 0.576171875,\n",
       "  'avg_probabilty': 0.688044071},\n",
       " {'adspaceid': '24362',\n",
       "  'avg_view_rate': 0.6337890625,\n",
       "  'avg_probabilty': 0.491822064},\n",
       " {'adspaceid': '19803',\n",
       "  'avg_view_rate': 0.2451171875,\n",
       "  'avg_probabilty': 0.539658368},\n",
       " {'adspaceid': '23041',\n",
       "  'avg_view_rate': 0.55908203125,\n",
       "  'avg_probabilty': 0.426775962},\n",
       " {'adspaceid': '20787', 'avg_view_rate': nan, 'avg_probabilty': 0.629717141},\n",
       " {'adspaceid': '24596',\n",
       "  'avg_view_rate': 0.916015625,\n",
       "  'avg_probabilty': 0.585719287},\n",
       " {'adspaceid': '24416',\n",
       "  'avg_view_rate': 0.732421875,\n",
       "  'avg_probabilty': 0.8225464825},\n",
       " {'adspaceid': '20880', 'avg_view_rate': nan, 'avg_probabilty': 0.827976286},\n",
       " {'adspaceid': '24454', 'avg_view_rate': nan, 'avg_probabilty': 0.542433441},\n",
       " {'adspaceid': '23064',\n",
       "  'avg_view_rate': 0.57958984375,\n",
       "  'avg_probabilty': 0.333860844},\n",
       " {'adspaceid': '24441', 'avg_view_rate': nan, 'avg_probabilty': 0.66016078},\n",
       " {'adspaceid': '22738', 'avg_view_rate': nan, 'avg_probabilty': 0.561559916},\n",
       " {'adspaceid': '24162',\n",
       "  'avg_view_rate': 0.50537109375,\n",
       "  'avg_probabilty': 0.150013212},\n",
       " {'adspaceid': '23110',\n",
       "  'avg_view_rate': 0.52294921875,\n",
       "  'avg_probabilty': 0.332284421},\n",
       " {'adspaceid': '20349',\n",
       "  'avg_view_rate': 0.53076171875,\n",
       "  'avg_probabilty': 0.288584},\n",
       " {'adspaceid': '23283',\n",
       "  'avg_view_rate': 0.268798828125,\n",
       "  'avg_probabilty': 0.170416057},\n",
       " {'adspaceid': '19823',\n",
       "  'avg_view_rate': 0.56396484375,\n",
       "  'avg_probabilty': 0.628873289},\n",
       " {'adspaceid': '24430', 'avg_view_rate': nan, 'avg_probabilty': 0.3765548615},\n",
       " {'adspaceid': '20013', 'avg_view_rate': nan, 'avg_probabilty': 0.8101408185},\n",
       " {'adspaceid': '24385',\n",
       "  'avg_view_rate': 0.7607421875,\n",
       "  'avg_probabilty': 0.893118441},\n",
       " {'adspaceid': '25402',\n",
       "  'avg_view_rate': 0.61572265625,\n",
       "  'avg_probabilty': 0.342185885},\n",
       " {'adspaceid': '20423', 'avg_view_rate': nan, 'avg_probabilty': 0.295974493},\n",
       " {'adspaceid': '23483',\n",
       "  'avg_view_rate': 0.337646484375,\n",
       "  'avg_probabilty': 0.14305477225000002},\n",
       " {'adspaceid': '24325',\n",
       "  'avg_view_rate': 0.859375,\n",
       "  'avg_probabilty': 0.894026107},\n",
       " {'adspaceid': '23718', 'avg_view_rate': nan, 'avg_probabilty': 0.535054},\n",
       " {'adspaceid': '22679',\n",
       "  'avg_view_rate': 0.56005859375,\n",
       "  'avg_probabilty': 0.436696559},\n",
       " {'adspaceid': '22351',\n",
       "  'avg_view_rate': 0.273681640625,\n",
       "  'avg_probabilty': 0.883498847},\n",
       " {'adspaceid': '23685',\n",
       "  'avg_view_rate': 0.465576171875,\n",
       "  'avg_probabilty': 0.584759414},\n",
       " {'adspaceid': '24412', 'avg_view_rate': nan, 'avg_probabilty': 0.618016303},\n",
       " {'adspaceid': '24327',\n",
       "  'avg_view_rate': 0.7509765625,\n",
       "  'avg_probabilty': 0.669389248},\n",
       " {'adspaceid': '22592', 'avg_view_rate': nan, 'avg_probabilty': 0.288181603},\n",
       " {'adspaceid': '22676',\n",
       "  'avg_view_rate': 0.1470947265625,\n",
       "  'avg_probabilty': 0.622032404},\n",
       " {'adspaceid': '24436', 'avg_view_rate': nan, 'avg_probabilty': 0.680017292},\n",
       " {'adspaceid': '22664',\n",
       "  'avg_view_rate': 0.51708984375,\n",
       "  'avg_probabilty': 0.6127718685000001},\n",
       " {'adspaceid': '24756', 'avg_view_rate': nan, 'avg_probabilty': 0.341834933},\n",
       " {'adspaceid': '24328',\n",
       "  'avg_view_rate': 0.841796875,\n",
       "  'avg_probabilty': 0.861930251},\n",
       " {'adspaceid': '21335',\n",
       "  'avg_view_rate': nan,\n",
       "  'avg_probabilty': 0.5994795363333333},\n",
       " {'adspaceid': '25430', 'avg_view_rate': nan, 'avg_probabilty': 0.623787582},\n",
       " {'adspaceid': '25059', 'avg_view_rate': nan, 'avg_probabilty': 0.404850066},\n",
       " {'adspaceid': '24305',\n",
       "  'avg_view_rate': 0.60791015625,\n",
       "  'avg_probabilty': 0.524787486},\n",
       " {'adspaceid': '21951', 'avg_view_rate': nan, 'avg_probabilty': 0.611387},\n",
       " {'adspaceid': '21032',\n",
       "  'avg_view_rate': 0.4583740234375,\n",
       "  'avg_probabilty': 0.47691021850000004},\n",
       " {'adspaceid': '24311',\n",
       "  'avg_view_rate': 0.70166015625,\n",
       "  'avg_probabilty': 0.797943175},\n",
       " {'adspaceid': '21312',\n",
       "  'avg_view_rate': 0.68505859375,\n",
       "  'avg_probabilty': 0.285907179},\n",
       " {'adspaceid': '22667',\n",
       "  'avg_view_rate': 0.54052734375,\n",
       "  'avg_probabilty': 0.549272358},\n",
       " {'adspaceid': '22352', 'avg_view_rate': nan, 'avg_probabilty': 0.363116026},\n",
       " {'adspaceid': '24376',\n",
       "  'avg_view_rate': 0.5458984375,\n",
       "  'avg_probabilty': 0.724308848},\n",
       " {'adspaceid': '22726', 'avg_view_rate': nan, 'avg_probabilty': 0.3273285625},\n",
       " {'adspaceid': '24333',\n",
       "  'avg_view_rate': 0.7666015625,\n",
       "  'avg_probabilty': 0.825597},\n",
       " {'adspaceid': '24425', 'avg_view_rate': nan, 'avg_probabilty': 0.304688752},\n",
       " {'adspaceid': '22678',\n",
       "  'avg_view_rate': 0.59375,\n",
       "  'avg_probabilty': 0.63067472},\n",
       " {'adspaceid': '25035', 'avg_view_rate': nan, 'avg_probabilty': 0.1647440715},\n",
       " {'adspaceid': '20558',\n",
       "  'avg_view_rate': 0.59130859375,\n",
       "  'avg_probabilty': 0.355730146},\n",
       " {'adspaceid': '20143',\n",
       "  'avg_view_rate': 0.2822265625,\n",
       "  'avg_probabilty': 0.239607528},\n",
       " {'adspaceid': '21966',\n",
       "  'avg_view_rate': 0.267333984375,\n",
       "  'avg_probabilty': 0.677475452},\n",
       " {'adspaceid': '23049',\n",
       "  'avg_view_rate': 0.28076171875,\n",
       "  'avg_probabilty': 0.368524611},\n",
       " {'adspaceid': '19993',\n",
       "  'avg_view_rate': 0.4130859375,\n",
       "  'avg_probabilty': 0.671566546},\n",
       " {'adspaceid': '24397',\n",
       "  'avg_view_rate': 0.7626953125,\n",
       "  'avg_probabilty': 0.847747684},\n",
       " {'adspaceid': '24421',\n",
       "  'avg_view_rate': 0.75146484375,\n",
       "  'avg_probabilty': 0.626171947},\n",
       " {'adspaceid': '24439', 'avg_view_rate': nan, 'avg_probabilty': 0.196357116},\n",
       " {'adspaceid': '24381', 'avg_view_rate': nan, 'avg_probabilty': 0.709326625},\n",
       " {'adspaceid': '20342',\n",
       "  'avg_view_rate': 0.460693359375,\n",
       "  'avg_probabilty': 0.492920637},\n",
       " {'adspaceid': '24330',\n",
       "  'avg_view_rate': 0.7880859375,\n",
       "  'avg_probabilty': 0.87796545},\n",
       " {'adspaceid': '22836',\n",
       "  'avg_view_rate': 0.74462890625,\n",
       "  'avg_probabilty': 0.466179},\n",
       " {'adspaceid': '21071', 'avg_view_rate': nan, 'avg_probabilty': 0.489326924},\n",
       " {'adspaceid': '24117', 'avg_view_rate': nan, 'avg_probabilty': 0.842153609},\n",
       " {'adspaceid': '24364',\n",
       "  'avg_view_rate': 0.53466796875,\n",
       "  'avg_probabilty': 0.5876863}]"
      ]
     },
     "execution_count": 66,
     "metadata": {},
     "output_type": "execute_result"
    }
   ],
   "source": [
    "import numpy as np\n",
    "\n",
    "n_r = []\n",
    "for idr, rr in r.items():\n",
    "    n_r.append({\n",
    "        'adspaceid': idr,\n",
    "        'avg_view_rate': np.mean(rr['view_rate']),\n",
    "        'avg_probabilty': np.mean(rr['probability'])\n",
    "    })\n",
    "n_r"
   ]
  }
 ],
 "metadata": {
  "kernelspec": {
   "display_name": "conda_tensorflow_p36",
   "language": "python",
   "name": "conda_tensorflow_p36"
  },
  "language_info": {
   "codemirror_mode": {
    "name": "ipython",
    "version": 3
   },
   "file_extension": ".py",
   "mimetype": "text/x-python",
   "name": "python",
   "nbconvert_exporter": "python",
   "pygments_lexer": "ipython3",
   "version": "3.6.5"
  }
 },
 "nbformat": 4,
 "nbformat_minor": 2
}
