{
 "cells": [
  {
   "cell_type": "code",
   "execution_count": 34,
   "metadata": {},
   "outputs": [],
   "source": [
    "from sagemaker import get_execution_role\n",
    "from sagemaker.session import Session\n",
    "from sagemaker.tensorflow import TensorFlow"
   ]
  },
  {
   "cell_type": "code",
   "execution_count": 35,
   "metadata": {},
   "outputs": [],
   "source": [
    "import os\n",
    "\n",
    "os.environ['CONFIG_FILE'] = 'config_click.json'"
   ]
  },
  {
   "cell_type": "code",
   "execution_count": 36,
   "metadata": {},
   "outputs": [],
   "source": [
    "import boto3\n",
    "import random\n",
    "import json\n",
    "import importlib\n",
    "import bidding_data\n",
    "import config"
   ]
  },
  {
   "cell_type": "code",
   "execution_count": 37,
   "metadata": {},
   "outputs": [],
   "source": [
    "bidding_data.download_stats_file_from_s3()"
   ]
  },
  {
   "cell_type": "code",
   "execution_count": 38,
   "metadata": {},
   "outputs": [],
   "source": [
    "# S3 bucket for saving code and model artifacts.\n",
    "# Feel free to specify a different bucket here if you wish.\n",
    "bucket = 'wsbidder'\n",
    "\n",
    "# Location where results of model training are saved.\n",
    "output_path = 's3://{}/trainer_predict_imp/model_output_click'.format(bucket)\n",
    "model_dir = 's3://{}/trainer_predict_imp/model_click'.format(bucket)\n",
    "\n",
    "# train_instance_type = 'ml.c4.xlarge'\n",
    "train_instance_type = 'ml.p2.xlarge'\n",
    "train_instance_count = 1\n",
    "hyperparameters = {'epochs': 10000, 'batch_size': 512, 'config_file': 'config_click.json'}\n",
    "inputs = {'train': 's3://wsbidder/trainer_predict_imp/data/train_click/',\n",
    "          'eval': 's3://wsbidder/trainer_predict_imp/data/eval_click/',\n",
    "          'test': 's3://wsbidder/trainer_predict_imp/data/eval_click/'}\n",
    "# inputs = {'train': '/opt/ml/input/data/train/',\n",
    "#           'eval': '/opt/ml/input/data/eval/',\n",
    "#           'test': '/opt/ml/input/data/eval/'}\n",
    "base_job_name = 'tf-click-prediction'"
   ]
  },
  {
   "cell_type": "code",
   "execution_count": 39,
   "metadata": {},
   "outputs": [],
   "source": [
    "estimator = TensorFlow(entry_point='train_predict_imp.py',\n",
    "                       source_dir='.',\n",
    "                       output_path=output_path,\n",
    "                       model_dir=model_dir,\n",
    "                       train_instance_type=train_instance_type,\n",
    "                       train_instance_count=train_instance_count,\n",
    "                       hyperparameters=hyperparameters,\n",
    "                       role=get_execution_role(),\n",
    "#                        image_name='520713654638.dkr.ecr.eu-west-1.amazonaws.com/sagemaker-tensorflow-scriptmode:1.12.0-gpu-py3',\n",
    "                       base_job_name=base_job_name,\n",
    "                       framework_version='1.14.0',\n",
    "                       py_version='py3',\n",
    "#                        distributions={'parameter_server': {'enabled': True}},\n",
    "                       script_mode=True)"
   ]
  },
  {
   "cell_type": "code",
   "execution_count": 40,
   "metadata": {},
   "outputs": [],
   "source": [
    "from sagemaker.tuner import IntegerParameter, CategoricalParameter, ContinuousParameter, HyperparameterTuner\n",
    "\n",
    "# Define objective\n",
    "objective_metric_name = 'loss'\n",
    "objective_type = 'Minimize'\n",
    "metric_definitions = [{'Name': 'loss',\n",
    "                       'Regex': 'loss = ([0-9\\\\.]+)'}]\n",
    "# Define hyperparameter ranges\n",
    "hyperparameter_ranges = {\n",
    "                            'learning_rate': ContinuousParameter(1e-6, 1e-4),\n",
    "                              'dropout_rate': ContinuousParameter(0.0, 0.9)\n",
    "                        }  \n",
    "# hyperparameter_ranges = {\n",
    "#                             'learning_rate': ContinuousParameter(0.0000001, 0.0001),\n",
    "#                             'dropout_rate': ContinuousParameter(0.0, 0.9),\n",
    "#                             'batch_size': IntegerParameter(512, 4096)\n",
    "#                         }  \n",
    "# Initialise Sagemaker's hyperparametertuner\n",
    "tuner = HyperparameterTuner(estimator,\n",
    "                            objective_metric_name,\n",
    "                            hyperparameter_ranges,\n",
    "                            metric_definitions,\n",
    "                            max_jobs=16,\n",
    "                            max_parallel_jobs=4,\n",
    "                            objective_type=objective_type)"
   ]
  },
  {
   "cell_type": "code",
   "execution_count": 41,
   "metadata": {},
   "outputs": [],
   "source": [
    "s3 = boto3.resource('s3')\n",
    "for obj in s3.Bucket(bucket).objects.filter(Prefix='trainer_predict_imp/model_click/'):\n",
    "    s3.Object(bucket,obj.key).delete()"
   ]
  },
  {
   "cell_type": "code",
   "execution_count": 42,
   "metadata": {},
   "outputs": [],
   "source": [
    "tuner.fit(inputs)"
   ]
  },
  {
   "cell_type": "code",
   "execution_count": 43,
   "metadata": {},
   "outputs": [],
   "source": [
    "# tuner.deploy(\n",
    "#     initial_instance_count=1,\n",
    "#     instance_type='ml.c5.large',\n",
    "#     endpoint_name='ClickPredictionProductionEndpoint',\n",
    "#     update_endpoint=True\n",
    "# )"
   ]
  },
  {
   "cell_type": "code",
   "execution_count": 44,
   "metadata": {
    "scrolled": true
   },
   "outputs": [],
   "source": [
    "# %%time\n",
    "\n",
    "# estimator.fit(inputs)"
   ]
  },
  {
   "cell_type": "code",
   "execution_count": 45,
   "metadata": {},
   "outputs": [],
   "source": [
    "# estimator.deploy(\n",
    "#     initial_instance_count=1,\n",
    "#     instance_type='ml.c5.large',\n",
    "#     endpoint_name='ClickPredictionProductionEndpoint',\n",
    "#     update_endpoint=True\n",
    "# )"
   ]
  },
  {
   "cell_type": "code",
   "execution_count": 46,
   "metadata": {},
   "outputs": [],
   "source": [
    "# estimator.delete_endpoint()"
   ]
  }
 ],
 "metadata": {
  "kernelspec": {
   "display_name": "conda_tensorflow_p36",
   "language": "python",
   "name": "conda_tensorflow_p36"
  },
  "language_info": {
   "codemirror_mode": {
    "name": "ipython",
    "version": 3
   },
   "file_extension": ".py",
   "mimetype": "text/x-python",
   "name": "python",
   "nbconvert_exporter": "python",
   "pygments_lexer": "ipython3",
   "version": "3.6.5"
  }
 },
 "nbformat": 4,
 "nbformat_minor": 2
}
