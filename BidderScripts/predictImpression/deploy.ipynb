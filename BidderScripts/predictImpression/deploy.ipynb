{
 "cells": [
  {
   "cell_type": "code",
   "execution_count": 1,
   "metadata": {},
   "outputs": [],
   "source": [
    "# !pip install sagemaker==1.38.6"
   ]
  },
  {
   "cell_type": "code",
   "execution_count": 2,
   "metadata": {},
   "outputs": [],
   "source": [
    "from sagemaker import get_execution_role\n",
    "from sagemaker.session import Session\n",
    "from sagemaker.tensorflow import TensorFlow"
   ]
  },
  {
   "cell_type": "code",
   "execution_count": 3,
   "metadata": {},
   "outputs": [],
   "source": [
    "import boto3\n",
    "import random\n",
    "import json\n",
    "import importlib\n",
    "import config"
   ]
  },
  {
   "cell_type": "code",
   "execution_count": 8,
   "metadata": {},
   "outputs": [],
   "source": [
    "# # S3 bucket for saving code and model artifacts.\n",
    "# # Feel free to specify a different bucket here if you wish.\n",
    "# bucket = 'wsbidder'\n",
    "\n",
    "# # Location where results of model training are saved.\n",
    "# output_path = 's3://{}/trainer_predict_imp/model_output'.format(bucket)\n",
    "# model_dir = 's3://{}/trainer_predict_imp/model'.format(bucket)\n",
    "\n",
    "# # train_instance_type = 'ml.c4.xlarge'\n",
    "# train_instance_type = 'ml.p2.xlarge'\n",
    "# train_instance_count = 1\n",
    "# hyperparameters = {'epochs': 10000, 'batch_size': 512, 'config_file': 'config.json'}\n",
    "# inputs = {'train': 's3://wsbidder/trainer_predict_imp/data/train/',\n",
    "#           'eval': 's3://wsbidder/trainer_predict_imp/data/eval/',\n",
    "#           'test': 's3://wsbidder/trainer_predict_imp/data/eval/'}\n",
    "# # inputs = {'train': '/opt/ml/input/data/train/',\n",
    "# #           'eval': '/opt/ml/input/data/eval/',\n",
    "# #           'test': '/opt/ml/input/data/eval/'}\n",
    "# base_job_name = 'tf-imp-prediction'"
   ]
  },
  {
   "cell_type": "code",
   "execution_count": 9,
   "metadata": {},
   "outputs": [],
   "source": [
    "# model_data = 's3://wsbidder/trainer_predict_imp/model_output/tf-imp-prediction-2019-09-17-09-16-37-697/output/model.tar.gz'\n",
    "# output_path = '/'.join( estimator.output_path.split('/')[:-1])"
   ]
  },
  {
   "cell_type": "code",
   "execution_count": 10,
   "metadata": {},
   "outputs": [
    {
     "ename": "NameError",
     "evalue": "name 'model_uri' is not defined",
     "output_type": "error",
     "traceback": [
      "\u001b[0;31m---------------------------------------------------------------------------\u001b[0m",
      "\u001b[0;31mNameError\u001b[0m                                 Traceback (most recent call last)",
      "\u001b[0;32m<ipython-input-10-94b47fa98746>\u001b[0m in \u001b[0;36m<module>\u001b[0;34m()\u001b[0m\n\u001b[1;32m      2\u001b[0m                        \u001b[0msource_dir\u001b[0m\u001b[0;34m=\u001b[0m\u001b[0;34m'.'\u001b[0m\u001b[0;34m,\u001b[0m\u001b[0;34m\u001b[0m\u001b[0m\n\u001b[1;32m      3\u001b[0m                        \u001b[0moutput_path\u001b[0m\u001b[0;34m=\u001b[0m\u001b[0moutput_path\u001b[0m\u001b[0;34m,\u001b[0m\u001b[0;34m\u001b[0m\u001b[0m\n\u001b[0;32m----> 4\u001b[0;31m                        \u001b[0mmodel_uri\u001b[0m\u001b[0;34m=\u001b[0m\u001b[0mmodel_uri\u001b[0m\u001b[0;34m,\u001b[0m\u001b[0;34m\u001b[0m\u001b[0m\n\u001b[0m\u001b[1;32m      5\u001b[0m \u001b[0;31m#                        model_dir=model_dir,\u001b[0m\u001b[0;34m\u001b[0m\u001b[0;34m\u001b[0m\u001b[0m\n\u001b[1;32m      6\u001b[0m                        \u001b[0mtrain_instance_type\u001b[0m\u001b[0;34m=\u001b[0m\u001b[0mtrain_instance_type\u001b[0m\u001b[0;34m,\u001b[0m\u001b[0;34m\u001b[0m\u001b[0m\n",
      "\u001b[0;31mNameError\u001b[0m: name 'model_uri' is not defined"
     ]
    }
   ],
   "source": [
    "# estimator = TensorFlow(entry_point='train_predict_imp.py',\n",
    "#                        source_dir='.',\n",
    "#                        output_path=output_path,\n",
    "#                        model_uri=model_uri,\n",
    "# #                        model_dir=model_dir,\n",
    "#                        train_instance_type=train_instance_type,\n",
    "#                        train_instance_count=train_instance_count,\n",
    "#                        hyperparameters=hyperparameters,\n",
    "#                        role=get_execution_role(),\n",
    "# #                        image_name='520713654638.dkr.ecr.eu-west-1.amazonaws.com/sagemaker-tensorflow-scriptmode:1.12.0-gpu-py3',\n",
    "#                        base_job_name=base_job_name,\n",
    "#                        framework_version='1.14.0',\n",
    "#                        py_version='py3',\n",
    "# #                        distributions={'parameter_server': {'enabled': True}},\n",
    "#                        script_mode=True)\n",
    "# compiled_model = estimator.compile_model(target_instance_family='ml_c5', \n",
    "#                                                input_shape={'examples':[1, 13]},\n",
    "#                                                role=get_execution_role(),\n",
    "#                                                output_path=output_path)"
   ]
  },
  {
   "cell_type": "code",
   "execution_count": 7,
   "metadata": {},
   "outputs": [],
   "source": [
    "from sagemaker.tensorflow.serving import Model\n",
    "model_data = 's3://wsbidder/trainer_predict_imp/model_output/tf-imp-prediction-2019-09-18-08-57-50-552/output/model.tar.gz'\n",
    "model = Model(\n",
    "    model_data=model_data, \n",
    "    framework_version='1.14',\n",
    "    role=get_execution_role()\n",
    ")\n"
   ]
  },
  {
   "cell_type": "code",
   "execution_count": 8,
   "metadata": {},
   "outputs": [
    {
     "data": {
      "text/plain": [
       "<sagemaker.tensorflow.serving.Predictor at 0x7fd2aa4a1a90>"
      ]
     },
     "execution_count": 8,
     "metadata": {},
     "output_type": "execute_result"
    }
   ],
   "source": [
    "model.deploy(\n",
    "    initial_instance_count=1,\n",
    "    instance_type='ml.c5.2xlarge',\n",
    "    endpoint_name='ImpressionPredictionProductionEndpoint',\n",
    "    update_endpoint=True\n",
    ")"
   ]
  },
  {
   "cell_type": "code",
   "execution_count": null,
   "metadata": {},
   "outputs": [],
   "source": [
    "# compiled_model.deploy(\n",
    "#     initial_instance_count=1,\n",
    "#     instance_type='ml.c5.xlarge',\n",
    "#     endpoint_name='ImpressionPredictionProductionEndpoint',\n",
    "#     update_endpoint=True\n",
    "# )"
   ]
  }
 ],
 "metadata": {
  "kernelspec": {
   "display_name": "conda_tensorflow_p36",
   "language": "python",
   "name": "conda_tensorflow_p36"
  },
  "language_info": {
   "codemirror_mode": {
    "name": "ipython",
    "version": 3
   },
   "file_extension": ".py",
   "mimetype": "text/x-python",
   "name": "python",
   "nbconvert_exporter": "python",
   "pygments_lexer": "ipython3",
   "version": "3.6.5"
  }
 },
 "nbformat": 4,
 "nbformat_minor": 2
}
