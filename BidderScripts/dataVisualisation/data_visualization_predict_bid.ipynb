{
 "cells": [
  {
   "cell_type": "code",
   "execution_count": 1,
   "metadata": {},
   "outputs": [],
   "source": [
    "import boto3\n",
    "import random\n",
    "import os\n",
    "import json\n",
    "import pandas as pd\n",
    "import datetime\n",
    "import gzip\n",
    "import seaborn as sns\n",
    "import gc\n",
    "import numpy as np\n",
    "from sklearn.model_selection import train_test_split\n",
    "from sklearn.model_selection import StratifiedKFold\n",
    "from sklearn.model_selection import GridSearchCV\n",
    "from sklearn.linear_model import LogisticRegression\n",
    "from sklearn.feature_selection import SelectFromModel\n",
    "from sklearn.metrics import f1_score\n",
    "from sklearn import preprocessing"
   ]
  },
  {
   "cell_type": "code",
   "execution_count": 2,
   "metadata": {},
   "outputs": [],
   "source": [
    "def get_hours(startHour=None, numberOfHours=6):\n",
    "    numberOfHours = numberOfHours % 25\n",
    "    if startHour is None:\n",
    "        startHour = datetime.datetime.now().hour\n",
    "    hours = [\"{:02d}\".format( (hour + 24) % 24 ) for hour in range(startHour, startHour - numberOfHours, -1)]\n",
    "    \n",
    "    return hours\n",
    "\n",
    "# print(get_hours(23, 24))\n",
    "\n",
    "def get_files(bucket, prefix, days=[], hours=[], ext='.csv'):\n",
    "    all_files = []\n",
    "    s3_resource = boto3.resource('s3')\n",
    "    for day in days:\n",
    "        for hour in hours:\n",
    "            _prefix = '{}/d={}/h={}/'.format(prefix, day, hour)\n",
    "            new_files = [ obj.key for obj in s3_resource.Bucket(bucket).objects.filter(Prefix=_prefix).all() if obj.key.endswith(ext) ]\n",
    "            all_files = all_files + new_files\n",
    "            \n",
    "    return all_files"
   ]
  },
  {
   "cell_type": "code",
   "execution_count": 3,
   "metadata": {},
   "outputs": [],
   "source": [
    "def get_types_of_attributes():\n",
    "    return {\n",
    "        'deliveryid' : np.string_,          # 307219911482\n",
    "        'dayofweek' : np.uint8,              # 3\n",
    "        'hour' : np.uint8,                   # 01\n",
    "        'pub_sspid' : np.string_,           # 2\n",
    "        'pub_accountid' : np.string_,       # 12440\n",
    "        'pub_as_siteid' : np.string_,       # 8084\n",
    "        'pub_as_adspaceid' : np.string_,    # 23678\n",
    "        'pub_as_domain' : np.string_,       # null\n",
    "        'pub_as_pageurl' : np.string_,      # null\n",
    "        'pub_as_dimensions' : np.string_,   # 300x250\n",
    "        'pub_as_viewrate' : np.float16,      # 0.707278907\n",
    "        'pub_as_position' : np.string_,     # null\n",
    "        'pub_as_caps' : np.string_,         # 15166603496\n",
    "        'req_buymodel' : np.string_,        # 4\n",
    "        'req_auctiontype' : np.string_,     # 2\n",
    "        'device_os' : np.string_,           # 19930\n",
    "        'device_model' : np.string_,        # 100000\n",
    "        'rtb_ctr' : np.float16,              # null\n",
    "        'rtb_viewrate' : np.float16,         # null\n",
    "        'rtb_bidfloor' : np.float16,         # 0.315631807\n",
    "        'rtb_battr' : np.string_,           # null\n",
    "        'rtb_tagid' : np.string_,           # 2152980677\n",
    "        'user_ip' : np.string_,             # 84.241.195.0\n",
    "        'user_market' : np.uint8,         # 75\n",
    "        'user_city' : np.string_,           # Amsterdam\n",
    "        'ad_imptype' : np.uint8,          # 4\n",
    "        'req_bid' : np.float16,              # 0.856686056\n",
    "        'price' : np.float16,                # null\n",
    "        'won' : np.uint8,                  # 0\n",
    "        'targetbid' : np.float16,            # 0.8566860556602478\n",
    "        'click' : np.uint8,                  # 0\n",
    "        'imp' : np.uint8,                    # 0\n",
    "        'imp_0' : np.uint8,                  # 0\n",
    "        'imp_1' : np.uint8,                  # 0\n",
    "        'imp_2' : np.uint8,                  # 0\n",
    "        'imp_3' : np.uint8,                  # 0\n",
    "        'imp_4' : np.uint8,                  # 0\n",
    "        'imp_5' : np.uint8,                  # 0\n",
    "        'imp_6' : np.uint8,                  # 0\n",
    "        'imp_7' : np.uint8,                  # 0\n",
    "        'imp_8' : np.uint8,                  # 0\n",
    "        'imp_9' : np.uint8,                  # 0\n",
    "        'imp_10' : np.uint8,                 # 0\n",
    "        'imp_11' : np.uint8,                 # 0\n",
    "        'imp_12' : np.uint8,                 # 0\n",
    "        'imp_13' : np.uint8,                 # 0\n",
    "        'imp_14' : np.uint8,                 # 0\n",
    "        'weight' : np.float16                 # 0\n",
    "    }\n"
   ]
  },
  {
   "cell_type": "code",
   "execution_count": 4,
   "metadata": {},
   "outputs": [],
   "source": [
    "imp_label = 'targetbid'\n",
    "SRC_BUCKET = 'wsbidder'\n",
    "SRC_PREFIX = 'tsv/etl/imp-pred-service-v1/imppredservice_training_data'\n",
    "\n",
    "filter_days = [ str( datetime.date.today() - datetime.timedelta(i+1) ) for i in range(7) ]\n",
    "filter_hours = get_hours(23, 24)\n",
    "\n",
    "dtypes = get_types_of_attributes()\n",
    "\n",
    "all_files = get_files(SRC_BUCKET, SRC_PREFIX, filter_days, filter_hours, ext='.gz')\n",
    "\n",
    "all_table = pd.concat((pd.read_csv('s3://{}/{}'.format(SRC_BUCKET, f), sep=\"\\t\", compression='gzip', na_values=[\"null\", \"\\\\N\"], dtype=dtypes) for f in all_files))"
   ]
  },
  {
   "cell_type": "code",
   "execution_count": 5,
   "metadata": {
    "scrolled": false
   },
   "outputs": [
    {
     "name": "stdout",
     "output_type": "stream",
     "text": [
      "<class 'pandas.core.frame.DataFrame'>\n",
      "Int64Index: 10031842 entries, 0 to 592\n",
      "Data columns (total 47 columns):\n",
      "deliveryid           object\n",
      "dayofweek            uint8\n",
      "hour                 uint8\n",
      "pub_sspid            object\n",
      "pub_accountid        object\n",
      "pub_as_siteid        object\n",
      "pub_as_adspaceid     object\n",
      "pub_as_domain        object\n",
      "pub_as_pageurl       object\n",
      "pub_as_dimensions    object\n",
      "pub_as_viewrate      float16\n",
      "pub_as_position      object\n",
      "pub_as_caps          object\n",
      "req_buymodel         object\n",
      "req_auctiontype      object\n",
      "device_os            object\n",
      "device_model         object\n",
      "rtb_ctr              float16\n",
      "rtb_viewrate         float16\n",
      "rtb_bidfloor         float16\n",
      "rtb_battr            object\n",
      "rtb_tagid            object\n",
      "user_ip              object\n",
      "user_market          uint8\n",
      "user_city            object\n",
      "ad_imptype           uint8\n",
      "req_bid              float16\n",
      "price                float16\n",
      "won                  uint8\n",
      "targetbid            float16\n",
      "click                uint8\n",
      "imp                  uint8\n",
      "imp_0                uint8\n",
      "imp_1                uint8\n",
      "imp_2                uint8\n",
      "imp_3                uint8\n",
      "imp_4                uint8\n",
      "imp_5                uint8\n",
      "imp_6                uint8\n",
      "imp_7                uint8\n",
      "imp_8                uint8\n",
      "imp_9                uint8\n",
      "imp_10               uint8\n",
      "imp_11               uint8\n",
      "imp_12               uint8\n",
      "imp_13               uint8\n",
      "imp_14               uint8\n",
      "dtypes: float16(7), object(18), uint8(22)\n",
      "memory usage: 1.8+ GB\n"
     ]
    }
   ],
   "source": [
    "all_table.info()"
   ]
  },
  {
   "cell_type": "code",
   "execution_count": 6,
   "metadata": {},
   "outputs": [
    {
     "data": {
      "text/html": [
       "<div>\n",
       "<style scoped>\n",
       "    .dataframe tbody tr th:only-of-type {\n",
       "        vertical-align: middle;\n",
       "    }\n",
       "\n",
       "    .dataframe tbody tr th {\n",
       "        vertical-align: top;\n",
       "    }\n",
       "\n",
       "    .dataframe thead th {\n",
       "        text-align: right;\n",
       "    }\n",
       "</style>\n",
       "<table border=\"1\" class=\"dataframe\">\n",
       "  <thead>\n",
       "    <tr style=\"text-align: right;\">\n",
       "      <th></th>\n",
       "      <th>deliveryid</th>\n",
       "      <th>dayofweek</th>\n",
       "      <th>hour</th>\n",
       "      <th>pub_sspid</th>\n",
       "      <th>pub_accountid</th>\n",
       "      <th>pub_as_siteid</th>\n",
       "      <th>pub_as_adspaceid</th>\n",
       "      <th>pub_as_domain</th>\n",
       "      <th>pub_as_pageurl</th>\n",
       "      <th>pub_as_dimensions</th>\n",
       "      <th>...</th>\n",
       "      <th>pub_as_position</th>\n",
       "      <th>pub_as_caps</th>\n",
       "      <th>device_os</th>\n",
       "      <th>device_model</th>\n",
       "      <th>user_ip</th>\n",
       "      <th>user_market</th>\n",
       "      <th>user_city</th>\n",
       "      <th>ad_imptype</th>\n",
       "      <th>click</th>\n",
       "      <th>imp_6</th>\n",
       "    </tr>\n",
       "  </thead>\n",
       "  <tbody>\n",
       "    <tr>\n",
       "      <th>0</th>\n",
       "      <td>384796864574</td>\n",
       "      <td>3</td>\n",
       "      <td>23</td>\n",
       "      <td>0</td>\n",
       "      <td>11804</td>\n",
       "      <td>7407</td>\n",
       "      <td>22664</td>\n",
       "      <td>vk.se</td>\n",
       "      <td>https://www.vk.se/?vk-app=true&amp;mobil=true</td>\n",
       "      <td>300x250,320x160,320x320,320x480</td>\n",
       "      <td>...</td>\n",
       "      <td>NaN</td>\n",
       "      <td>0</td>\n",
       "      <td>26150</td>\n",
       "      <td>119401</td>\n",
       "      <td>217.208.13.81</td>\n",
       "      <td>1</td>\n",
       "      <td>Ume?</td>\n",
       "      <td>0</td>\n",
       "      <td>0</td>\n",
       "      <td>0</td>\n",
       "    </tr>\n",
       "    <tr>\n",
       "      <th>1</th>\n",
       "      <td>384795413596</td>\n",
       "      <td>3</td>\n",
       "      <td>23</td>\n",
       "      <td>3</td>\n",
       "      <td>10752</td>\n",
       "      <td>6412</td>\n",
       "      <td>21335</td>\n",
       "      <td>dailymail.co.uk</td>\n",
       "      <td>https://www.dailymail.co.uk/tvshowbiz/article-...</td>\n",
       "      <td>300x250</td>\n",
       "      <td>...</td>\n",
       "      <td>0</td>\n",
       "      <td>0</td>\n",
       "      <td>26130</td>\n",
       "      <td>119925</td>\n",
       "      <td>77.172.158.87</td>\n",
       "      <td>75</td>\n",
       "      <td>Rotterdam</td>\n",
       "      <td>0</td>\n",
       "      <td>0</td>\n",
       "      <td>0</td>\n",
       "    </tr>\n",
       "    <tr>\n",
       "      <th>2</th>\n",
       "      <td>384794094565</td>\n",
       "      <td>3</td>\n",
       "      <td>23</td>\n",
       "      <td>3</td>\n",
       "      <td>13287</td>\n",
       "      <td>8870</td>\n",
       "      <td>24913</td>\n",
       "      <td>vi.nl</td>\n",
       "      <td>https://www.vi.nl/nieuws/denswil-kiest-voor-av...</td>\n",
       "      <td>300x250,320x500</td>\n",
       "      <td>...</td>\n",
       "      <td>0</td>\n",
       "      <td>0</td>\n",
       "      <td>26140</td>\n",
       "      <td>117370</td>\n",
       "      <td>87.214.35.149</td>\n",
       "      <td>75</td>\n",
       "      <td>Amsterdam</td>\n",
       "      <td>0</td>\n",
       "      <td>0</td>\n",
       "      <td>0</td>\n",
       "    </tr>\n",
       "    <tr>\n",
       "      <th>3</th>\n",
       "      <td>384797671414</td>\n",
       "      <td>3</td>\n",
       "      <td>23</td>\n",
       "      <td>3</td>\n",
       "      <td>12021</td>\n",
       "      <td>7620</td>\n",
       "      <td>22998</td>\n",
       "      <td>startsiden.no</td>\n",
       "      <td>https://www.startsiden.no/</td>\n",
       "      <td>300x250,300x300</td>\n",
       "      <td>...</td>\n",
       "      <td>0</td>\n",
       "      <td>0</td>\n",
       "      <td>26140</td>\n",
       "      <td>117501</td>\n",
       "      <td>88.88.105.12</td>\n",
       "      <td>3</td>\n",
       "      <td>Troms?</td>\n",
       "      <td>6</td>\n",
       "      <td>0</td>\n",
       "      <td>0</td>\n",
       "    </tr>\n",
       "    <tr>\n",
       "      <th>4</th>\n",
       "      <td>384796837092</td>\n",
       "      <td>3</td>\n",
       "      <td>23</td>\n",
       "      <td>2</td>\n",
       "      <td>11265</td>\n",
       "      <td>6889</td>\n",
       "      <td>21910</td>\n",
       "      <td>hastnet.se</td>\n",
       "      <td>https://hastnet.se/sv/sok/utrustning/till-salu...</td>\n",
       "      <td>300x250,320x320</td>\n",
       "      <td>...</td>\n",
       "      <td>1</td>\n",
       "      <td>0</td>\n",
       "      <td>19936</td>\n",
       "      <td>100000</td>\n",
       "      <td>85.164.78.0</td>\n",
       "      <td>3</td>\n",
       "      <td>Raufoss</td>\n",
       "      <td>6</td>\n",
       "      <td>0</td>\n",
       "      <td>0</td>\n",
       "    </tr>\n",
       "  </tbody>\n",
       "</table>\n",
       "<p>5 rows × 21 columns</p>\n",
       "</div>"
      ],
      "text/plain": [
       "     deliveryid  dayofweek  hour pub_sspid pub_accountid pub_as_siteid  \\\n",
       "0  384796864574          3    23         0         11804          7407   \n",
       "1  384795413596          3    23         3         10752          6412   \n",
       "2  384794094565          3    23         3         13287          8870   \n",
       "3  384797671414          3    23         3         12021          7620   \n",
       "4  384796837092          3    23         2         11265          6889   \n",
       "\n",
       "  pub_as_adspaceid    pub_as_domain  \\\n",
       "0            22664            vk.se   \n",
       "1            21335  dailymail.co.uk   \n",
       "2            24913            vi.nl   \n",
       "3            22998    startsiden.no   \n",
       "4            21910       hastnet.se   \n",
       "\n",
       "                                      pub_as_pageurl  \\\n",
       "0          https://www.vk.se/?vk-app=true&mobil=true   \n",
       "1  https://www.dailymail.co.uk/tvshowbiz/article-...   \n",
       "2  https://www.vi.nl/nieuws/denswil-kiest-voor-av...   \n",
       "3                         https://www.startsiden.no/   \n",
       "4  https://hastnet.se/sv/sok/utrustning/till-salu...   \n",
       "\n",
       "                 pub_as_dimensions  ...  pub_as_position pub_as_caps  \\\n",
       "0  300x250,320x160,320x320,320x480  ...              NaN           0   \n",
       "1                          300x250  ...                0           0   \n",
       "2                  300x250,320x500  ...                0           0   \n",
       "3                  300x250,300x300  ...                0           0   \n",
       "4                  300x250,320x320  ...                1           0   \n",
       "\n",
       "  device_os device_model        user_ip user_market  user_city ad_imptype  \\\n",
       "0     26150       119401  217.208.13.81           1       Ume?          0   \n",
       "1     26130       119925  77.172.158.87          75  Rotterdam          0   \n",
       "2     26140       117370  87.214.35.149          75  Amsterdam          0   \n",
       "3     26140       117501   88.88.105.12           3     Troms?          6   \n",
       "4     19936       100000    85.164.78.0           3    Raufoss          6   \n",
       "\n",
       "   click  imp_6  \n",
       "0      0      0  \n",
       "1      0      0  \n",
       "2      0      0  \n",
       "3      0      0  \n",
       "4      0      0  \n",
       "\n",
       "[5 rows x 21 columns]"
      ]
     },
     "execution_count": 6,
     "metadata": {},
     "output_type": "execute_result"
    }
   ],
   "source": [
    "all_table = all_table[['deliveryid',\n",
    " 'dayofweek',\n",
    " 'hour',\n",
    " 'pub_sspid',\n",
    " 'pub_accountid',\n",
    " 'pub_as_siteid',\n",
    " 'pub_as_adspaceid',\n",
    " 'pub_as_domain',\n",
    " 'pub_as_pageurl',\n",
    " 'pub_as_dimensions',\n",
    " 'pub_as_viewrate',\n",
    " 'pub_as_position',\n",
    " 'pub_as_caps',\n",
    " 'device_os',\n",
    " 'device_model',\n",
    " 'user_ip',\n",
    " 'user_market',\n",
    " 'user_city',\n",
    " 'ad_imptype',\n",
    " 'click',\n",
    " imp_label]]\n",
    "\n",
    "all_table.head()"
   ]
  },
  {
   "cell_type": "code",
   "execution_count": 10,
   "metadata": {},
   "outputs": [
    {
     "data": {
      "text/html": [
       "<div>\n",
       "<style scoped>\n",
       "    .dataframe tbody tr th:only-of-type {\n",
       "        vertical-align: middle;\n",
       "    }\n",
       "\n",
       "    .dataframe tbody tr th {\n",
       "        vertical-align: top;\n",
       "    }\n",
       "\n",
       "    .dataframe thead th {\n",
       "        text-align: right;\n",
       "    }\n",
       "</style>\n",
       "<table border=\"1\" class=\"dataframe\">\n",
       "  <thead>\n",
       "    <tr style=\"text-align: right;\">\n",
       "      <th></th>\n",
       "      <th>deliveryid</th>\n",
       "      <th>dayofweek</th>\n",
       "      <th>hour</th>\n",
       "      <th>pub_sspid</th>\n",
       "      <th>pub_accountid</th>\n",
       "      <th>pub_as_siteid</th>\n",
       "      <th>pub_as_adspaceid</th>\n",
       "      <th>pub_as_domain</th>\n",
       "      <th>pub_as_pageurl</th>\n",
       "      <th>pub_as_dimensions</th>\n",
       "      <th>...</th>\n",
       "      <th>pub_as_position</th>\n",
       "      <th>pub_as_caps</th>\n",
       "      <th>device_os</th>\n",
       "      <th>device_model</th>\n",
       "      <th>user_ip</th>\n",
       "      <th>user_market</th>\n",
       "      <th>user_city</th>\n",
       "      <th>ad_imptype</th>\n",
       "      <th>click</th>\n",
       "      <th>imp_6</th>\n",
       "    </tr>\n",
       "  </thead>\n",
       "  <tbody>\n",
       "    <tr>\n",
       "      <th>0</th>\n",
       "      <td>384796864574</td>\n",
       "      <td>3</td>\n",
       "      <td>23</td>\n",
       "      <td>0</td>\n",
       "      <td>11804</td>\n",
       "      <td>7407</td>\n",
       "      <td>22664</td>\n",
       "      <td>vk.se</td>\n",
       "      <td>https://www.vk.se/?vk-app=true&amp;mobil=true</td>\n",
       "      <td>300x250,320x160,320x320,320x480</td>\n",
       "      <td>...</td>\n",
       "      <td>NaN</td>\n",
       "      <td>0</td>\n",
       "      <td>26150</td>\n",
       "      <td>119401</td>\n",
       "      <td>0</td>\n",
       "      <td>1</td>\n",
       "      <td>Ume?</td>\n",
       "      <td>0</td>\n",
       "      <td>0</td>\n",
       "      <td>0</td>\n",
       "    </tr>\n",
       "    <tr>\n",
       "      <th>1</th>\n",
       "      <td>384795413596</td>\n",
       "      <td>3</td>\n",
       "      <td>23</td>\n",
       "      <td>3</td>\n",
       "      <td>10752</td>\n",
       "      <td>6412</td>\n",
       "      <td>21335</td>\n",
       "      <td>dailymail.co.uk</td>\n",
       "      <td>0</td>\n",
       "      <td>300x250</td>\n",
       "      <td>...</td>\n",
       "      <td>0</td>\n",
       "      <td>0</td>\n",
       "      <td>26130</td>\n",
       "      <td>119925</td>\n",
       "      <td>0</td>\n",
       "      <td>75</td>\n",
       "      <td>Rotterdam</td>\n",
       "      <td>0</td>\n",
       "      <td>0</td>\n",
       "      <td>0</td>\n",
       "    </tr>\n",
       "    <tr>\n",
       "      <th>2</th>\n",
       "      <td>384794094565</td>\n",
       "      <td>3</td>\n",
       "      <td>23</td>\n",
       "      <td>3</td>\n",
       "      <td>13287</td>\n",
       "      <td>8870</td>\n",
       "      <td>24913</td>\n",
       "      <td>vi.nl</td>\n",
       "      <td>0</td>\n",
       "      <td>300x250,320x500</td>\n",
       "      <td>...</td>\n",
       "      <td>0</td>\n",
       "      <td>0</td>\n",
       "      <td>26140</td>\n",
       "      <td>117370</td>\n",
       "      <td>0</td>\n",
       "      <td>75</td>\n",
       "      <td>Amsterdam</td>\n",
       "      <td>0</td>\n",
       "      <td>0</td>\n",
       "      <td>0</td>\n",
       "    </tr>\n",
       "    <tr>\n",
       "      <th>3</th>\n",
       "      <td>384797671414</td>\n",
       "      <td>3</td>\n",
       "      <td>23</td>\n",
       "      <td>3</td>\n",
       "      <td>12021</td>\n",
       "      <td>7620</td>\n",
       "      <td>22998</td>\n",
       "      <td>startsiden.no</td>\n",
       "      <td>https://www.startsiden.no/</td>\n",
       "      <td>300x250,300x300</td>\n",
       "      <td>...</td>\n",
       "      <td>0</td>\n",
       "      <td>0</td>\n",
       "      <td>26140</td>\n",
       "      <td>117501</td>\n",
       "      <td>0</td>\n",
       "      <td>3</td>\n",
       "      <td>Troms?</td>\n",
       "      <td>6</td>\n",
       "      <td>0</td>\n",
       "      <td>0</td>\n",
       "    </tr>\n",
       "    <tr>\n",
       "      <th>4</th>\n",
       "      <td>384796837092</td>\n",
       "      <td>3</td>\n",
       "      <td>23</td>\n",
       "      <td>2</td>\n",
       "      <td>11265</td>\n",
       "      <td>6889</td>\n",
       "      <td>21910</td>\n",
       "      <td>hastnet.se</td>\n",
       "      <td>0</td>\n",
       "      <td>300x250,320x320</td>\n",
       "      <td>...</td>\n",
       "      <td>1</td>\n",
       "      <td>0</td>\n",
       "      <td>19936</td>\n",
       "      <td>100000</td>\n",
       "      <td>0</td>\n",
       "      <td>3</td>\n",
       "      <td>0</td>\n",
       "      <td>6</td>\n",
       "      <td>0</td>\n",
       "      <td>0</td>\n",
       "    </tr>\n",
       "  </tbody>\n",
       "</table>\n",
       "<p>5 rows × 21 columns</p>\n",
       "</div>"
      ],
      "text/plain": [
       "     deliveryid  dayofweek  hour pub_sspid pub_accountid pub_as_siteid  \\\n",
       "0  384796864574          3    23         0         11804          7407   \n",
       "1  384795413596          3    23         3         10752          6412   \n",
       "2  384794094565          3    23         3         13287          8870   \n",
       "3  384797671414          3    23         3         12021          7620   \n",
       "4  384796837092          3    23         2         11265          6889   \n",
       "\n",
       "  pub_as_adspaceid    pub_as_domain  \\\n",
       "0            22664            vk.se   \n",
       "1            21335  dailymail.co.uk   \n",
       "2            24913            vi.nl   \n",
       "3            22998    startsiden.no   \n",
       "4            21910       hastnet.se   \n",
       "\n",
       "                              pub_as_pageurl                pub_as_dimensions  \\\n",
       "0  https://www.vk.se/?vk-app=true&mobil=true  300x250,320x160,320x320,320x480   \n",
       "1                                          0                          300x250   \n",
       "2                                          0                  300x250,320x500   \n",
       "3                 https://www.startsiden.no/                  300x250,300x300   \n",
       "4                                          0                  300x250,320x320   \n",
       "\n",
       "   ...  pub_as_position pub_as_caps device_os device_model user_ip  \\\n",
       "0  ...              NaN           0     26150       119401       0   \n",
       "1  ...                0           0     26130       119925       0   \n",
       "2  ...                0           0     26140       117370       0   \n",
       "3  ...                0           0     26140       117501       0   \n",
       "4  ...                1           0     19936       100000       0   \n",
       "\n",
       "  user_market  user_city ad_imptype  click  imp_6  \n",
       "0           1       Ume?          0      0      0  \n",
       "1          75  Rotterdam          0      0      0  \n",
       "2          75  Amsterdam          0      0      0  \n",
       "3           3     Troms?          6      0      0  \n",
       "4           3          0          6      0      0  \n",
       "\n",
       "[5 rows x 21 columns]"
      ]
     },
     "execution_count": 10,
     "metadata": {},
     "output_type": "execute_result"
    }
   ],
   "source": [
    "all_table = all_table.apply(lambda x: x.mask(x.map(x.value_counts()) < 1000, '0') if x.name in ['pub_sspid', 'pub_accountid', 'pub_as_siteid', 'pub_as_adspaceid', 'pub_as_domain', 'pub_as_pageurl', 'pub_as_dimensions', 'pub_as_position', 'device_os', 'device_model', 'user_ip', 'user_market', 'user_city'] else x)\n",
    "all_table.head()"
   ]
  },
  {
   "cell_type": "code",
   "execution_count": null,
   "metadata": {},
   "outputs": [],
   "source": [
    "all_table.groupby(imp_label).size().plot(kind='bar')\n",
    "\n",
    "total_rows = all_table.shape[0]\n",
    "\n",
    "imp_rate = all_table[imp_label].value_counts() / total_rows\n",
    "\n",
    "imp_rate"
   ]
  },
  {
   "cell_type": "code",
   "execution_count": null,
   "metadata": {},
   "outputs": [],
   "source": [
    "data_imp = all_table[all_table[imp_label] == 1]"
   ]
  },
  {
   "cell_type": "code",
   "execution_count": null,
   "metadata": {},
   "outputs": [],
   "source": [
    "def get_data_by_feature(feature, data_true, all_data, min_render_count=1000):\n",
    "    feature_data = pd.DataFrame()\n",
    "    columns = []\n",
    "    columns = [feature, imp_label]\n",
    "    feature_values_with_imp = data_true[feature].unique()\n",
    "    feature_data[feature] = data_true[columns].groupby(feature).count().reset_index()[columns[0]]\n",
    "    feature_data['imp_count'] = (data_true[columns].groupby(feature).count().reset_index()[columns[-1]]).astype(np.uint64)\n",
    "    feature_data['render_count'] = (all_data[all_data[feature].isin(feature_values_with_imp)][columns].groupby(feature).count().reset_index()[columns[-1]]).astype(np.uint64)\n",
    "    feature_data = feature_data[feature_data['render_count'] >= min_render_count]\n",
    "    feature_data['imp_rate'] = 100 * feature_data['imp_count'] / feature_data['render_count']\n",
    "    feature_data = feature_data.sort_values(ascending = False, by = 'imp_rate')\n",
    "\n",
    "    return feature_data"
   ]
  },
  {
   "cell_type": "markdown",
   "metadata": {},
   "source": [
    "# Hour"
   ]
  },
  {
   "cell_type": "code",
   "execution_count": null,
   "metadata": {
    "scrolled": false
   },
   "outputs": [],
   "source": [
    "hour_data = get_data_by_feature('hour', data_imp, all_table)\n",
    "print(hour_data)\n",
    "sns.barplot(y='imp_rate',x='hour', data=hour_data)"
   ]
  },
  {
   "cell_type": "markdown",
   "metadata": {},
   "source": [
    "# Day of week"
   ]
  },
  {
   "cell_type": "code",
   "execution_count": null,
   "metadata": {},
   "outputs": [],
   "source": [
    "day_data = get_data_by_feature('dayofweek', data_imp, all_table)\n",
    "print(day_data)\n",
    "\n",
    "sns.barplot(y='imp_rate',x='dayofweek', data=day_data)"
   ]
  },
  {
   "cell_type": "markdown",
   "metadata": {},
   "source": [
    "# Day of week + hour"
   ]
  },
  {
   "cell_type": "code",
   "execution_count": null,
   "metadata": {},
   "outputs": [],
   "source": [
    "all_table['dayofweek_hour'] = 1000*all_table['dayofweek'] + all_table['hour']\n",
    "data_imp['dayofweek_hour'] = 1000*data_imp['dayofweek'] + data_imp['hour']\n",
    "\n",
    "dayofweek_hour_data = get_data_by_feature('dayofweek_hour', data_imp, all_table)\n",
    "print(dayofweek_hour_data)\n",
    "sns.barplot(y='imp_rate',x='dayofweek_hour', data=dayofweek_hour_data)"
   ]
  },
  {
   "cell_type": "markdown",
   "metadata": {},
   "source": [
    "# SSP ID"
   ]
  },
  {
   "cell_type": "code",
   "execution_count": null,
   "metadata": {},
   "outputs": [],
   "source": [
    "sspid_data = get_data_by_feature('pub_sspid', data_imp, all_table)\n",
    "print(sspid_data)\n",
    "\n",
    "sns.barplot(y='imp_rate',x='pub_sspid', data=sspid_data)"
   ]
  },
  {
   "cell_type": "markdown",
   "metadata": {},
   "source": [
    "# Account ID"
   ]
  },
  {
   "cell_type": "code",
   "execution_count": null,
   "metadata": {
    "scrolled": true
   },
   "outputs": [],
   "source": [
    "accountid_data = get_data_by_feature('pub_accountid', data_imp, all_table)\n",
    "print(accountid_data)\n",
    "\n",
    "sns.barplot(y='imp_rate',x='pub_accountid', data=accountid_data)"
   ]
  },
  {
   "cell_type": "markdown",
   "metadata": {},
   "source": [
    "# Position"
   ]
  },
  {
   "cell_type": "code",
   "execution_count": null,
   "metadata": {
    "scrolled": true
   },
   "outputs": [],
   "source": [
    "pub_as_position = get_data_by_feature('pub_as_position', data_imp, all_table)\n",
    "print(pub_as_position)\n",
    "\n",
    "sns.barplot(y='imp_rate',x='pub_as_position', data=pub_as_position)"
   ]
  },
  {
   "cell_type": "markdown",
   "metadata": {},
   "source": [
    "# Dimension"
   ]
  },
  {
   "cell_type": "code",
   "execution_count": null,
   "metadata": {
    "scrolled": false
   },
   "outputs": [],
   "source": [
    "pub_as_dimensions = get_data_by_feature('pub_as_dimensions', data_imp, all_table)\n",
    "print(pub_as_dimensions)\n",
    "\n",
    "sns.barplot(y='imp_rate',x='pub_as_dimensions', data=pub_as_dimensions)"
   ]
  },
  {
   "cell_type": "markdown",
   "metadata": {},
   "source": [
    "# Position + Dimension"
   ]
  },
  {
   "cell_type": "code",
   "execution_count": null,
   "metadata": {},
   "outputs": [],
   "source": [
    "all_table['position_dimension'] = all_table['pub_as_position'] + '_' + all_table['pub_as_dimensions']\n",
    "data_imp['position_dimension'] = data_imp['pub_as_position'] + '_' + data_imp['pub_as_dimensions']\n",
    "\n",
    "position_dimension_data = get_data_by_feature('position_dimension', data_imp, all_table)\n",
    "print(position_dimension_data)\n",
    "sns.barplot(y='imp_rate',x='position_dimension', data=position_dimension_data)"
   ]
  },
  {
   "cell_type": "markdown",
   "metadata": {},
   "source": [
    "# Domain + Position"
   ]
  },
  {
   "cell_type": "code",
   "execution_count": null,
   "metadata": {},
   "outputs": [],
   "source": [
    "all_table['domain_position'] = all_table['pub_as_position'] + '_' + all_table['pub_as_domain']\n",
    "data_imp['domain_position'] = data_imp['pub_as_position'] + '_' + data_imp['pub_as_domain']\n",
    "\n",
    "domain_position = get_data_by_feature('domain_position', data_imp, all_table)\n",
    "print(domain_position)\n",
    "sns.barplot(y='imp_rate',x='domain_position', data=domain_position)"
   ]
  },
  {
   "cell_type": "markdown",
   "metadata": {},
   "source": [
    "# Device OS"
   ]
  },
  {
   "cell_type": "code",
   "execution_count": null,
   "metadata": {
    "scrolled": true
   },
   "outputs": [],
   "source": [
    "device_os = get_data_by_feature('device_os', data_imp, all_table)\n",
    "print(device_os)\n",
    "\n",
    "sns.barplot(y='imp_rate',x='device_os', data=device_os)"
   ]
  },
  {
   "cell_type": "markdown",
   "metadata": {},
   "source": [
    "# Device Model"
   ]
  },
  {
   "cell_type": "code",
   "execution_count": null,
   "metadata": {},
   "outputs": [],
   "source": [
    "device_model = get_data_by_feature('device_model', data_imp, all_table)\n",
    "print(device_model)\n",
    "\n",
    "sns.barplot(y='imp_rate',x='device_model', data=device_model)"
   ]
  },
  {
   "cell_type": "markdown",
   "metadata": {},
   "source": [
    "# User Market"
   ]
  },
  {
   "cell_type": "code",
   "execution_count": null,
   "metadata": {},
   "outputs": [],
   "source": [
    "user_market = get_data_by_feature('user_market', data_imp, all_table)\n",
    "print(user_market)\n",
    "\n",
    "sns.barplot(y='imp_rate',x='user_market', data=user_market)"
   ]
  },
  {
   "cell_type": "markdown",
   "metadata": {},
   "source": [
    "# User city"
   ]
  },
  {
   "cell_type": "code",
   "execution_count": null,
   "metadata": {},
   "outputs": [],
   "source": [
    "user_city = get_data_by_feature('user_city', data_imp, all_table)\n",
    "print(user_city)\n",
    "\n",
    "sns.barplot(y='imp_rate',x='user_city', data=user_city)"
   ]
  },
  {
   "cell_type": "markdown",
   "metadata": {},
   "source": [
    "# User ip"
   ]
  },
  {
   "cell_type": "code",
   "execution_count": null,
   "metadata": {
    "scrolled": true
   },
   "outputs": [],
   "source": [
    "user_ip = get_data_by_feature('user_ip', data_imp, all_table)\n",
    "print(user_ip)\n",
    "\n",
    "sns.barplot(y='imp_rate',x='user_ip', data=user_ip)"
   ]
  },
  {
   "cell_type": "markdown",
   "metadata": {},
   "source": [
    "# Site ID"
   ]
  },
  {
   "cell_type": "code",
   "execution_count": null,
   "metadata": {
    "scrolled": true
   },
   "outputs": [],
   "source": [
    "pub_as_siteid = get_data_by_feature('pub_as_siteid', data_imp, all_table)\n",
    "print(pub_as_siteid)\n",
    "\n",
    "sns.barplot(y='imp_rate',x='pub_as_siteid', data=pub_as_siteid)"
   ]
  },
  {
   "cell_type": "markdown",
   "metadata": {},
   "source": [
    "# Adspace ID"
   ]
  },
  {
   "cell_type": "code",
   "execution_count": null,
   "metadata": {
    "scrolled": true
   },
   "outputs": [],
   "source": [
    "pub_as_adspaceid = get_data_by_feature('pub_as_adspaceid', data_imp, all_table)\n",
    "print(pub_as_adspaceid)\n",
    "\n",
    "sns.barplot(y='imp_rate',x='pub_as_adspaceid', data=pub_as_adspaceid)"
   ]
  },
  {
   "cell_type": "markdown",
   "metadata": {},
   "source": [
    "# Domain"
   ]
  },
  {
   "cell_type": "code",
   "execution_count": null,
   "metadata": {
    "scrolled": true
   },
   "outputs": [],
   "source": [
    "pub_as_domain = get_data_by_feature('pub_as_domain', data_imp, all_table)\n",
    "print(pub_as_domain)\n",
    "\n",
    "sns.barplot(y='imp_rate',x='pub_as_domain', data=pub_as_domain)"
   ]
  },
  {
   "cell_type": "markdown",
   "metadata": {},
   "source": [
    "# Page URL"
   ]
  },
  {
   "cell_type": "code",
   "execution_count": null,
   "metadata": {},
   "outputs": [],
   "source": [
    "pub_as_pageurl = get_data_by_feature('pub_as_pageurl', data_imp, all_table)\n",
    "print(pub_as_pageurl)\n",
    "\n",
    "sns.barplot(y='imp_rate',x='pub_as_pageurl', data=pub_as_pageurl)"
   ]
  },
  {
   "cell_type": "markdown",
   "metadata": {},
   "source": [
    "# Ad Imp Type"
   ]
  },
  {
   "cell_type": "code",
   "execution_count": null,
   "metadata": {},
   "outputs": [],
   "source": [
    "ad_imptype = get_data_by_feature('ad_imptype', data_imp, all_table)\n",
    "print(ad_imptype)\n",
    "\n",
    "sns.barplot(y='imp_rate',x='ad_imptype', data=ad_imptype)"
   ]
  },
  {
   "cell_type": "code",
   "execution_count": null,
   "metadata": {},
   "outputs": [],
   "source": [
    "def one_hot_features(data_frame, feature_set):\n",
    "    new_data_frame = pd.get_dummies(data_frame,\n",
    "                                     columns = feature_set,\n",
    "                                    sparse = True)\n",
    "\n",
    "    return new_data_frame\n",
    "\n",
    "def label_encoder(df):\n",
    "#     print(df.unique())\n",
    "#     df.fillna('0')\n",
    "    le = preprocessing.LabelEncoder()\n",
    "    return le.fit_transform(df.astype(str))"
   ]
  },
  {
   "cell_type": "code",
   "execution_count": null,
   "metadata": {},
   "outputs": [],
   "source": [
    "model_features = ['dayofweek_hour', 'pub_sspid',\n",
    "                  'pub_as_dimensions', 'domain_position',\n",
    "                  'device_model', 'user_market',\n",
    "                  'user_city', 'pub_as_adspaceid', 'pub_as_pageurl']\n",
    "model_target = imp_label"
   ]
  },
  {
   "cell_type": "code",
   "execution_count": null,
   "metadata": {},
   "outputs": [],
   "source": [
    "train_model = all_table[model_features+[model_target]].sample(frac=0.1,random_state=42)"
   ]
  },
  {
   "cell_type": "code",
   "execution_count": null,
   "metadata": {},
   "outputs": [],
   "source": [
    "train_model = one_hot_features(train_model,\n",
    "                                ['pub_sspid',\n",
    "                                 'pub_as_dimensions',\n",
    "                                 'domain_position',\n",
    "                                 'device_model',\n",
    "                                 'user_market'\n",
    "                                ])"
   ]
  },
  {
   "cell_type": "code",
   "execution_count": null,
   "metadata": {},
   "outputs": [],
   "source": [
    "for column in ['user_city', 'pub_as_adspaceid', 'pub_as_pageurl']:\n",
    "    train_model[column] = label_encoder(train_model[column])"
   ]
  },
  {
   "cell_type": "code",
   "execution_count": null,
   "metadata": {},
   "outputs": [],
   "source": [
    "model_features = np.array(train_model.columns[train_model.columns!=model_target].tolist())"
   ]
  },
  {
   "cell_type": "code",
   "execution_count": null,
   "metadata": {},
   "outputs": [],
   "source": [
    "train_model.head()"
   ]
  },
  {
   "cell_type": "code",
   "execution_count": null,
   "metadata": {},
   "outputs": [],
   "source": [
    "x_train, x_test, y_train, y_test = train_test_split(\n",
    "    train_model[model_features].values,\n",
    "    train_model[model_target].values,\n",
    "    test_size=0.3,\n",
    "    random_state=42\n",
    ")"
   ]
  },
  {
   "cell_type": "code",
   "execution_count": null,
   "metadata": {},
   "outputs": [],
   "source": [
    "num_splits = 3\n",
    "c_values = np.logspace(-3,0,7)"
   ]
  },
  {
   "cell_type": "code",
   "execution_count": null,
   "metadata": {},
   "outputs": [],
   "source": [
    "stratified_k_fold = StratifiedKFold(n_splits=num_splits)\n",
    "\n",
    "scores = np.zeros(7)\n",
    "nr_params = np.zeros(7)"
   ]
  },
  {
   "cell_type": "code",
   "execution_count": null,
   "metadata": {},
   "outputs": [],
   "source": [
    "for train_data, valid_data in stratified_k_fold.split(x_train,\n",
    "                                                      y_train):\n",
    "    for i, c in enumerate(np.logspace(-3, 0, 7)):\n",
    "        lr_classify = LogisticRegression(penalty='l1',\n",
    "                                         class_weight='balanced',\n",
    "                                         C = c)\n",
    "        lr_classify.fit(x_train[train_data],\n",
    "                        y_train[train_data])\n",
    "\n",
    "        #validation_Set evaluation\n",
    "\n",
    "        y_prediction = lr_classify.predict(x_train[valid_data])\n",
    "        score_f1 = f1_score(y_train[valid_data],\n",
    "                            y_prediction, average='weighted' )\n",
    "\n",
    "        scores[i] += score_f1 / num_splits\n",
    "\n",
    "        ### spot the selected parameters ##\n",
    "\n",
    "        model_selected = SelectFromModel(lr_classify, prefit=True)\n",
    "        nr_params[i] += np.sum(model_selected.get_support()) / num_splits"
   ]
  },
  {
   "cell_type": "code",
   "execution_count": null,
   "metadata": {},
   "outputs": [],
   "source": [
    "plt.figure(figsize=(20, 10))\n",
    "plt.plot(nr_params, scores)\n",
    "\n",
    "for i, c in enumerate(c_values):\n",
    "    plt.annotate(c, (nr_params[i], scores[i]))\n",
    "plt.xlabel(\"Nr of parameters\")\n",
    "plt.ylabel(\"Avg F1 score\")"
   ]
  }
 ],
 "metadata": {
  "kernelspec": {
   "display_name": "conda_tensorflow_p36",
   "language": "python",
   "name": "conda_tensorflow_p36"
  },
  "language_info": {
   "codemirror_mode": {
    "name": "ipython",
    "version": 3
   },
   "file_extension": ".py",
   "mimetype": "text/x-python",
   "name": "python",
   "nbconvert_exporter": "python",
   "pygments_lexer": "ipython3",
   "version": "3.6.5"
  }
 },
 "nbformat": 4,
 "nbformat_minor": 2
}
